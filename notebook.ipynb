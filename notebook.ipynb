{
 "cells": [
  {
   "cell_type": "markdown",
   "id": "0ee28904",
   "metadata": {},
   "source": [
    "### GitHubから.ipynbドキュメントを抽出する処理\n",
    "\n",
    "🌐 対象：特定リポジトリのNotebookファイル\n",
    "\n",
    "GIT_REPOS = [\n",
    "    (\"https://github.com/langchain-ai/langchain\", \"master\", \"langchain\"),\n",
    "    # 他リポジトリも追加可能\n",
    "]\n",
    "\n",
    "⸻\n",
    "\n",
    "🛠 GitLoaderの活用\n",
    "\t•\tGitHubリポジトリをローカルにクローン\n",
    "\t•\tfile_filterで**.ipynbファイルのみに絞り込み**\n",
    "\n",
    "loader = GitLoader(\n",
    "    repo_path=\"/tmp/langchain\",\n",
    "    clone_url=repo_url,\n",
    "    branch=branch,\n",
    "    file_filter=lambda f: f.endswith(\".ipynb\")\n",
    ")\n",
    "\n",
    "⸻\n",
    "\n",
    "### ロード処理\n",
    "\t•\t指定リポジトリからNotebookを取得\n",
    "\t•\t複数のリポジトリに対応可能\n",
    "\t•\t統合して1つのドキュメントリストに\n",
    "\n",
    "docs = loader.load()\n",
    "\n",
    "\n",
    "\n",
    "⸻\n",
    "\n",
    " 結果：Notebookの一覧が docs に格納\n",
    " \n",
    "\n",
    "⸻\n",
    "\n",
    "必要に応じて、対象ファイル数の出力ログや、複数リポジトリ対応の設計についても補足可能です。図解が必要であればその作成もできます！"
   ]
  },
  {
   "cell_type": "code",
   "execution_count": 1,
   "id": "8e46dc0c",
   "metadata": {},
   "outputs": [
    {
     "name": "stdout",
     "output_type": "stream",
     "text": [
      "Loaded 1202 documents from https://github.com/langchain-ai/langchain\n"
     ]
    }
   ],
   "source": [
    "import re\n",
    "import json\n",
    "import tiktoken\n",
    "from pathlib import Path\n",
    "from typing import List\n",
    "from langchain_core.documents import Document\n",
    "from langchain_community.document_loaders import GitLoader\n",
    "\n",
    "# === GitHubリポジトリから.ipynbを抽出 ===\n",
    "GIT_REPOS = [\n",
    "    (\"https://github.com/langchain-ai/langchain\", \"master\", \"langchain\"),\n",
    "    #(\"https://github.com/langchain-ai/langgraph\", \"main\", \"langgraph\")\n",
    "]\n",
    "\n",
    "\n",
    "def load_ipynb_documents():\n",
    "    all_docs = []\n",
    "    for repo_url, branch, _ in GIT_REPOS:\n",
    "        repo_name = repo_url.split(\"/\")[-1]\n",
    "        loader = GitLoader(\n",
    "            repo_path=f\"/tmp/{repo_name}\",\n",
    "            clone_url=repo_url,\n",
    "            branch=branch,\n",
    "            file_filter=lambda f: f.endswith(\".ipynb\")\n",
    "        )\n",
    "        docs = loader.load()\n",
    "        print(f\"Loaded {len(docs)} documents from {repo_url}\")\n",
    "        all_docs.extend(docs)\n",
    "    return all_docs\n",
    "\n",
    "docs = load_ipynb_documents()\n"
   ]
  },
  {
   "cell_type": "markdown",
   "id": "eac6f0dc",
   "metadata": {},
   "source": [
    "\n",
    "\n",
    "### Notebookから高品質なチャンクを抽出する処理\n",
    "\n",
    "🧼 ステップ1：Base64画像の除去\n",
    "\t•\tMarkdown形式とHTML形式のdata:imageを含むbase64画像タグを正規表現で除去。\n",
    "\t•\t対象：Markdownセルに含まれる冗長な画像データ。\n",
    "\n",
    "remove_base64_images()\n",
    "\n",
    "\n",
    "\n",
    "⸻\n",
    "\n",
    "### ステップ2：NotebookをJSONから構造化\n",
    "\t•\t各ドキュメントをnbformatでパースし、セル単位で分解。\n",
    "\n",
    "⸻\n",
    "\n",
    "### ステップ3：有用なチャンクだけを抽出\n",
    "\t•\tMarkdownセル\n",
    "\t•\tBase64画像を除去\n",
    "\t•\tタイトルだけの行などを除外\n",
    "\t•\t意味のある50文字以上の内容だけを抽出\n",
    "\t•\tCodeセル\n",
    "\t•\tPython構文チェック（compile()）でエラー除外\n",
    "\t•\t3行以上のコードだけを抽出\n",
    "\n",
    "⸻\n",
    "\n",
    "結果：分析・学習に適したテキストチャンクを自動生成\n"
   ]
  },
  {
   "cell_type": "code",
   "execution_count": 2,
   "id": "9bf6e418",
   "metadata": {},
   "outputs": [
    {
     "name": "stderr",
     "output_type": "stream",
     "text": [
      "<string>:2: SyntaxWarning: invalid escape sequence '\\ '\n",
      "<string>:36: SyntaxWarning: invalid escape sequence '\\:'\n",
      "<string>:2: SyntaxWarning: invalid escape sequence '\\ '\n",
      "<string>:1: SyntaxWarning: invalid escape sequence '\\d'\n",
      "<string>:8: SyntaxWarning: invalid escape sequence '\\s'\n"
     ]
    }
   ],
   "source": [
    "import re\n",
    "\n",
    "def remove_base64_images(text: str) -> str:\n",
    "    # Markdown形式のbase64画像\n",
    "    text = re.sub(r'!\\[.*?\\]\\(data:image\\/[a-zA-Z]+;base64,[^\\)]*\\)', '', text)\n",
    "    # HTML形式のbase64画像\n",
    "    text = re.sub(r'<img[^>]*src=\"data:image\\/[a-zA-Z]+;base64,[^\"]*\"[^>]*>', '', text)\n",
    "    return text\n",
    "\n",
    "# === Notebookを構造化されたチャンクに変換 ===\n",
    "def extract_useful_chunks_from_docs(docs: List[Document]) -> List[str]:\n",
    "    import nbformat\n",
    "\n",
    "    extracted_chunks = []\n",
    "    for doc in docs:\n",
    "        try:\n",
    "            if not doc.page_content.strip().startswith(\"{\"):\n",
    "                raise ValueError(\"Not JSON format\")\n",
    "            nb_json = json.loads(doc.page_content)\n",
    "            nb = nbformat.from_dict(nb_json)\n",
    "        except Exception as e:\n",
    "            print(f\"[ERROR] Notebook parse failed: {e}\")\n",
    "            continue\n",
    "\n",
    "        for cell in nb.cells:\n",
    "            source = cell.get(\"source\", \"\")\n",
    "            if isinstance(source, list):\n",
    "                source = \"\".join(source)\n",
    "            source = source.strip()\n",
    "\n",
    "            if cell.cell_type == 'markdown':\n",
    "                source = remove_base64_images(source)\n",
    "                if len(source) > 50 and not re.fullmatch(r\"(#+ .+(\\n)?)+\", source.strip()):\n",
    "                    extracted_chunks.append(source)\n",
    "\n",
    "            elif cell.cell_type == 'code':\n",
    "                try:\n",
    "                    tree = compile(source, '<string>', 'exec', flags=0, dont_inherit=True)\n",
    "                    if source.count(\"\\n\") >= 3:\n",
    "                        extracted_chunks.append(source)\n",
    "                except Exception:\n",
    "                    continue\n",
    "\n",
    "    return extracted_chunks\n",
    "extracted_chunks = extract_useful_chunks_from_docs(docs)\n"
   ]
  },
  {
   "cell_type": "markdown",
   "id": "cfa7bad7",
   "metadata": {},
   "source": [
    "以下は、提示されたコードをプレゼン資料用にわかりやすく要約した内容です：\n",
    "\n",
    "⸻\n",
    "\n",
    "🧩 チャンクを構造付きデータに変換する処理\n",
    "\n",
    "⸻\n",
    "\n",
    "🎯 目的：抽出済みチャンクを「セクション構造」付きに整理\n",
    "\n",
    "⸻\n",
    "\n",
    "🏷 セクション情報を抽出\n",
    "\t•\tMarkdownの見出し（##や###）を検出し、以下を分類：\n",
    "\t•\t##: Section\n",
    "\t•\t###: Subsection\n",
    "\n",
    "header_match = re.match(r'^(#{2,3}) (.+)', chunk.strip())\n",
    "\n",
    "\n",
    "\n",
    "⸻\n",
    "\n",
    "📚 内容の蓄積とフラッシュ\n",
    "\t•\t見出し以外のテキストをバッファに溜めていき…\n",
    "\t•\t新しい見出しが来たら flush_buffer() で保存！\n",
    "\n",
    "def flush_buffer():\n",
    "    # チャンクを結合・トークン数をカウント\n",
    "\n",
    "\n",
    "\n",
    "⸻\n",
    "\n",
    "🔢 GPTモデル向けのトークン数も計算\n",
    "\t•\ttiktoken を使って、各構造チャンクのトークン数を事前評価\n",
    "\t•\tモデルに与える前のフィルタリングや制御にも活用可能\n",
    "\n",
    "⸻\n",
    "\n",
    "✅ 出力：構造化チャンクのリスト（セクション／小見出し／内容／トークン数）\n",
    "\n",
    "{\n",
    "  \"section\": \"Getting Started\",\n",
    "  \"subsection\": \"Installation\",\n",
    "  \"tokens\": 187,\n",
    "  \"content\": \"...\"\n",
    "}\n",
    "\n",
    "\n",
    "\n",
    "⸻\n",
    "\n",
    "📊 結果確認\n",
    "\n",
    "print(f\"Total structured chunks: {len(structured)}\")\n",
    "\n",
    "\n",
    "\n",
    "⸻\n",
    "\n",
    "補足が必要であれば、「LangChainのチャンク構造サンプル」や「フロー図（チャンク→構造→RAG用コーパス）」などもご用意可能です！"
   ]
  },
  {
   "cell_type": "code",
   "execution_count": 3,
   "id": "e241893f",
   "metadata": {},
   "outputs": [
    {
     "name": "stdout",
     "output_type": "stream",
     "text": [
      "Total structured chunks: 2644\n"
     ]
    }
   ],
   "source": [
    "\n",
    "# === チャンクを構造付きに変換 ===\n",
    "def structure_chunks(extracted_chunks: List[str]) -> List[dict]:\n",
    "    structured_chunks = []\n",
    "    current_section = None\n",
    "    current_subsection = None\n",
    "    current_buffer = []\n",
    "    encoding = tiktoken.encoding_for_model(\"gpt-4o\")\n",
    "\n",
    "    def flush_buffer():\n",
    "        if not current_buffer:\n",
    "            return\n",
    "        combined = \"\\n\\n\".join(current_buffer).strip()\n",
    "        tokens = len(encoding.encode(combined, disallowed_special=()))\n",
    "        structured_chunks.append({\n",
    "            \"section\": current_section,\n",
    "            \"subsection\": current_subsection,\n",
    "            \"tokens\": tokens,\n",
    "            \"content\": combined\n",
    "        })\n",
    "        current_buffer.clear()\n",
    "\n",
    "    for chunk in extracted_chunks:\n",
    "        header_match = re.match(r'^(#{2,3}) (.+)', chunk.strip())\n",
    "        if header_match:\n",
    "            level = len(header_match.group(1))\n",
    "            title = header_match.group(2).strip()\n",
    "            flush_buffer()\n",
    "            if level == 2:\n",
    "                current_section = title\n",
    "                current_subsection = None\n",
    "            elif level == 3:\n",
    "                current_subsection = title\n",
    "            continue\n",
    "        current_buffer.append(chunk)\n",
    "    flush_buffer()\n",
    "    return structured_chunks\n",
    "structured = structure_chunks(extracted_chunks)\n",
    "# === 要素数の確認 ===\n",
    "print(f\"Total structured chunks: {len(structured)}\")\n",
    "\n"
   ]
  },
  {
   "cell_type": "code",
   "execution_count": null,
   "id": "b6331bbf",
   "metadata": {},
   "outputs": [
    {
     "name": "stderr",
     "output_type": "stream",
     "text": [
      "/var/folders/ht/f4xylq1s7n7fby8xyn_zt17m0000gn/T/ipykernel_92653/1640688808.py:8: LangChainDeprecationWarning: The class `Ollama` was deprecated in LangChain 0.3.1 and will be removed in 1.0.0. An updated version of the class exists in the :class:`~langchain-ollama package and should be used instead. To use it run `pip install -U :class:`~langchain-ollama` and import as `from :class:`~langchain_ollama import OllamaLLM``.\n",
      "  Ollama(model=\"gemma3:4b\"),\n",
      "Failed to multipart ingest runs: langsmith.utils.LangSmithAuthError: Authentication failed for https://api.smith.langchain.com/runs/multipart. HTTPError('401 Client Error: Unauthorized for url: https://api.smith.langchain.com/runs/multipart', '{\"error\":\"Unauthorized: Using outdated v1 api key. Please use v2 api key.\"}\\n')trace=e04b19b6-a9e7-422f-8fd0-7466e1b4937a,id=e04b19b6-a9e7-422f-8fd0-7466e1b4937a\n",
      "Failed to multipart ingest runs: langsmith.utils.LangSmithAuthError: Authentication failed for https://api.smith.langchain.com/runs/multipart. HTTPError('401 Client Error: Unauthorized for url: https://api.smith.langchain.com/runs/multipart', '{\"error\":\"Unauthorized: Using outdated v1 api key. Please use v2 api key.\"}\\n')trace=1b3c9bc9-55f4-4d6e-948f-0b96528da3c8,id=1b3c9bc9-55f4-4d6e-948f-0b96528da3c8\n",
      "Failed to multipart ingest runs: langsmith.utils.LangSmithAuthError: Authentication failed for https://api.smith.langchain.com/runs/multipart. HTTPError('401 Client Error: Unauthorized for url: https://api.smith.langchain.com/runs/multipart', '{\"error\":\"Unauthorized: Using outdated v1 api key. Please use v2 api key.\"}\\n')trace=8809177b-efb5-49ea-bb71-897ceca55752,id=8809177b-efb5-49ea-bb71-897ceca55752\n"
     ]
    },
    {
     "name": "stdout",
     "output_type": "stream",
     "text": [
      "[1] 補完成功（model 0）：  Go to the VertexAI Model Garden on Google Cloud [console](https://pantheon.corp.google.com/vertex-ai/publishers/google/model-garden/335), and deploy the desired version of Gemma to VertexAI. It will take a few minutes, and after the endpoint is ready, you need to copy its number.\n"
     ]
    },
    {
     "name": "stderr",
     "output_type": "stream",
     "text": [
      "Failed to send compressed multipart ingest: langsmith.utils.LangSmithAuthError: Authentication failed for https://api.smith.langchain.com/runs/multipart. HTTPError('401 Client Error: Unauthorized for url: https://api.smith.langchain.com/runs/multipart', '{\"error\":\"Unauthorized: Using outdated v1 api key. Please use v2 api key.\"}\\n')\n",
      "Failed to send compressed multipart ingest: langsmith.utils.LangSmithAuthError: Authentication failed for https://api.smith.langchain.com/runs/multipart. HTTPError('401 Client Error: Unauthorized for url: https://api.smith.langchain.com/runs/multipart', '{\"error\":\"Unauthorized: Using outdated v1 api key. Please use v2 api key.\"}\\n')\n"
     ]
    },
    {
     "name": "stdout",
     "output_type": "stream",
     "text": [
      "[2] 補完成功（model 1）：section: LLM  # Local\n"
     ]
    },
    {
     "name": "stderr",
     "output_type": "stream",
     "text": [
      "Failed to send compressed multipart ingest: langsmith.utils.LangSmithAuthError: Authentication failed for https://api.smith.langchain.com/runs/multipart. HTTPError('401 Client Error: Unauthorized for url: https://api.smith.langchain.com/runs/multipart', '{\"error\":\"Unauthorized: Using outdated v1 api key. Please use v2 api key.\"}\\n')\n"
     ]
    },
    {
     "name": "stdout",
     "output_type": "stream",
     "text": [
      "[4] 補完成功（model 0）：section: Query a SQL Database  # Prompt\n"
     ]
    },
    {
     "name": "stderr",
     "output_type": "stream",
     "text": [
      "Failed to send compressed multipart ingest: langsmith.utils.LangSmithAuthError: Authentication failed for https://api.smith.langchain.com/runs/multipart. HTTPError('401 Client Error: Unauthorized for url: https://api.smith.langchain.com/runs/multipart', '{\"error\":\"Unauthorized: Using outdated v1 api key. Please use v2 api key.\"}\\n')\n"
     ]
    },
    {
     "name": "stdout",
     "output_type": "stream",
     "text": [
      "[5] 補完成功（model 1）：section: Data Loading  from langchain_text_splitters import CharacterTextSplitter\n"
     ]
    },
    {
     "name": "stderr",
     "output_type": "stream",
     "text": [
      "Failed to send compressed multipart ingest: langsmith.utils.LangSmithAuthError: Authentication failed for https://api.smith.langchain.com/runs/multipart. HTTPError('401 Client Error: Unauthorized for url: https://api.smith.langchain.com/runs/multipart', '{\"error\":\"Unauthorized: Using outdated v1 api key. Please use v2 api key.\"}\\n')\n"
     ]
    },
    {
     "name": "stdout",
     "output_type": "stream",
     "text": [
      "[6] 補完成功（model 2）：section: Multi-vector retriever  from langchain_core.output_parsers import StrOutputParser\n",
      "📝 5件を一時保存（fine_tune_data_with_output.jsonl）\n"
     ]
    },
    {
     "name": "stderr",
     "output_type": "stream",
     "text": [
      "Failed to send compressed multipart ingest: langsmith.utils.LangSmithAuthError: Authentication failed for https://api.smith.langchain.com/runs/multipart. HTTPError('401 Client Error: Unauthorized for url: https://api.smith.langchain.com/runs/multipart', '{\"error\":\"Unauthorized: Using outdated v1 api key. Please use v2 api key.\"}\\n')\n",
      "Failed to send compressed multipart ingest: langsmith.utils.LangSmithAuthError: Authentication failed for https://api.smith.langchain.com/runs/multipart. HTTPError('401 Client Error: Unauthorized for url: https://api.smith.langchain.com/runs/multipart', '{\"error\":\"Unauthorized: Using outdated v1 api key. Please use v2 api key.\"}\\n')\n"
     ]
    },
    {
     "name": "stdout",
     "output_type": "stream",
     "text": [
      "[3] 補完成功（model 2）：section: DB  from langchain_community.utilities import SQLDatabase\n"
     ]
    },
    {
     "name": "stderr",
     "output_type": "stream",
     "text": [
      "Failed to send compressed multipart ingest: langsmith.utils.LangSmithAuthError: Authentication failed for https://api.smith.langchain.com/runs/multipart. HTTPError('401 Client Error: Unauthorized for url: https://api.smith.langchain.com/runs/multipart', '{\"error\":\"Unauthorized: Using outdated v1 api key. Please use v2 api key.\"}\\n')\n"
     ]
    },
    {
     "name": "stdout",
     "output_type": "stream",
     "text": [
      "[8] 補完成功（model 1）：section: Multi-vector retriever subsection: Add to vectorstore import uuid\n"
     ]
    },
    {
     "name": "stderr",
     "output_type": "stream",
     "text": [
      "Failed to send compressed multipart ingest: langsmith.utils.LangSmithAuthError: Authentication failed for https://api.smith.langchain.com/runs/multipart. HTTPError('401 Client Error: Unauthorized for url: https://api.smith.langchain.com/runs/multipart', '{\"error\":\"Unauthorized: Using outdated v1 api key. Please use v2 api key.\"}\\n')\n"
     ]
    },
    {
     "name": "stdout",
     "output_type": "stream",
     "text": [
      "[7] 補完成功（model 0）：section: Multi-vector retriever subsection: Image summaries import base64\n"
     ]
    },
    {
     "name": "stderr",
     "output_type": "stream",
     "text": [
      "Failed to send compressed multipart ingest: langsmith.utils.LangSmithAuthError: Authentication failed for https://api.smith.langchain.com/runs/multipart. HTTPError('401 Client Error: Unauthorized for url: https://api.smith.langchain.com/runs/multipart', '{\"error\":\"Unauthorized: Using outdated v1 api key. Please use v2 api key.\"}\\n')\n"
     ]
    },
    {
     "name": "stdout",
     "output_type": "stream",
     "text": [
      "[11] 補完成功（model 1）：section: RAG subsection: Sanity Check ... here is the corresponding summary, which we embedded and used in similarity search.\n"
     ]
    },
    {
     "name": "stderr",
     "output_type": "stream",
     "text": [
      "Failed to send compressed multipart ingest: langsmith.utils.LangSmithAuthError: Authentication failed for https://api.smith.langchain.com/runs/multipart. HTTPError('401 Client Error: Unauthorized for url: https://api.smith.langchain.com/runs/multipart', '{\"error\":\"Unauthorized: Using outdated v1 api key. Please use v2 api key.\"}\\n')\n"
     ]
    },
    {
     "name": "stdout",
     "output_type": "stream",
     "text": [
      "[10] 補完成功（model 0）：section: RAG subsection: Check # Check retrieval\n",
      "📝 5件を一時保存（fine_tune_data_with_output.jsonl）\n"
     ]
    },
    {
     "name": "stderr",
     "output_type": "stream",
     "text": [
      "Failed to send compressed multipart ingest: langsmith.utils.LangSmithAuthError: Authentication failed for https://api.smith.langchain.com/runs/multipart. HTTPError('401 Client Error: Unauthorized for url: https://api.smith.langchain.com/runs/multipart', '{\"error\":\"Unauthorized: Using outdated v1 api key. Please use v2 api key.\"}\\n')\n"
     ]
    },
    {
     "name": "stdout",
     "output_type": "stream",
     "text": [
      "[12] 補完成功（model 2）：section: RAG subsection: RAG Here is the trace where we can see what is passed to the LLM:\n"
     ]
    },
    {
     "name": "stderr",
     "output_type": "stream",
     "text": [
      "Failed to send compressed multipart ingest: langsmith.utils.LangSmithAuthError: Authentication failed for https://api.smith.langchain.com/runs/multipart. HTTPError('401 Client Error: Unauthorized for url: https://api.smith.langchain.com/runs/multipart', '{\"error\":\"Unauthorized: Using outdated v1 api key. Please use v2 api key.\"}\\n')\n"
     ]
    },
    {
     "name": "stdout",
     "output_type": "stream",
     "text": [
      "[13] 補完成功（model 0）：section: RAG subsection: Considerations This tutorial demonstrates how to implement the Option 2 described [here](https://github.com/langchain-ai/langchain/blob/master/cookbook/Multi_modal_RAG.ipynb) with Generative API on Google Cloud.\n"
     ]
    },
    {
     "name": "stderr",
     "output_type": "stream",
     "text": [
      "Failed to send compressed multipart ingest: langsmith.utils.LangSmithAuthError: Authentication failed for https://api.smith.langchain.com/runs/multipart. HTTPError('401 Client Error: Unauthorized for url: https://api.smith.langchain.com/runs/multipart', '{\"error\":\"Unauthorized: Using outdated v1 api key. Please use v2 api key.\"}\\n')\n"
     ]
    },
    {
     "name": "stdout",
     "output_type": "stream",
     "text": [
      "[14] 補完成功（model 1）：section: Setup  We use a zip file with a sub-set of the extracted images and pdf from [this](https://cloudedjudgement.substack.com/p/clouded-judgement-111023) blog post. If you want to follow the full flow, please, use the original [example](https://github.com/langchain-ai/langchain/blob/master/cookbook/Multi_modal_RAG.ipynb).\n"
     ]
    },
    {
     "name": "stderr",
     "output_type": "stream",
     "text": [
      "Failed to send compressed multipart ingest: langsmith.utils.LangSmithAuthError: Authentication failed for https://api.smith.langchain.com/runs/multipart. HTTPError('401 Client Error: Unauthorized for url: https://api.smith.langchain.com/runs/multipart', '{\"error\":\"Unauthorized: Using outdated v1 api key. Please use v2 api key.\"}\\n')\n",
      "Failed to send compressed multipart ingest: langsmith.utils.LangSmithAuthError: Authentication failed for https://api.smith.langchain.com/runs/multipart. HTTPError('401 Client Error: Unauthorized for url: https://api.smith.langchain.com/runs/multipart', '{\"error\":\"Unauthorized: Using outdated v1 api key. Please use v2 api key.\"}\\n')\n"
     ]
    },
    {
     "name": "stdout",
     "output_type": "stream",
     "text": [
      "[15] 補完成功（model 2）：section: Setup subsection: Docs import matplotlib.pyplot as plt\n"
     ]
    },
    {
     "name": "stderr",
     "output_type": "stream",
     "text": [
      "Failed to send compressed multipart ingest: langsmith.utils.LangSmithAuthError: Authentication failed for https://api.smith.langchain.com/runs/multipart. HTTPError('401 Client Error: Unauthorized for url: https://api.smith.langchain.com/runs/multipart', '{\"error\":\"Unauthorized: Using outdated v1 api key. Please use v2 api key.\"}\\n')\n"
     ]
    },
    {
     "name": "stdout",
     "output_type": "stream",
     "text": [
      "[16] 補完成功（model 0）：section: Models  from langchain_openai import OpenAIEmbeddings\n",
      "📝 5件を一時保存（fine_tune_data_with_output.jsonl）\n"
     ]
    },
    {
     "name": "stderr",
     "output_type": "stream",
     "text": [
      "Failed to send compressed multipart ingest: langsmith.utils.LangSmithAuthError: Authentication failed for https://api.smith.langchain.com/runs/multipart. HTTPError('401 Client Error: Unauthorized for url: https://api.smith.langchain.com/runs/multipart', '{\"error\":\"Unauthorized: Using outdated v1 api key. Please use v2 api key.\"}\\n')\n"
     ]
    },
    {
     "name": "stdout",
     "output_type": "stream",
     "text": [
      "[18] 補完成功（model 2）：section: Semi-structured RAG  The PDF partitioning used by Unstructured will use: \n"
     ]
    },
    {
     "name": "stderr",
     "output_type": "stream",
     "text": [
      "Failed to send compressed multipart ingest: langsmith.utils.LangSmithAuthError: Authentication failed for https://api.smith.langchain.com/runs/multipart. HTTPError('401 Client Error: Unauthorized for url: https://api.smith.langchain.com/runs/multipart', '{\"error\":\"Unauthorized: Using outdated v1 api key. Please use v2 api key.\"}\\n')\n"
     ]
    },
    {
     "name": "stdout",
     "output_type": "stream",
     "text": [
      "[9] 補完成功（model 2）：section: RAG  import io\n"
     ]
    },
    {
     "name": "stderr",
     "output_type": "stream",
     "text": [
      "Failed to send compressed multipart ingest: langsmith.utils.LangSmithAuthError: Authentication failed for https://api.smith.langchain.com/runs/multipart. HTTPError('401 Client Error: Unauthorized for url: https://api.smith.langchain.com/runs/multipart', '{\"error\":\"Unauthorized: Using outdated v1 api key. Please use v2 api key.\"}\\n')\n"
     ]
    },
    {
     "name": "stdout",
     "output_type": "stream",
     "text": [
      "[19] 補完成功（model 0）：section: Data Loading  from typing import Any\n"
     ]
    },
    {
     "name": "stderr",
     "output_type": "stream",
     "text": [
      "Failed to send compressed multipart ingest: langsmith.utils.LangSmithAuthError: Authentication failed for https://api.smith.langchain.com/runs/multipart. HTTPError('401 Client Error: Unauthorized for url: https://api.smith.langchain.com/runs/multipart', '{\"error\":\"Unauthorized: Using outdated v1 api key. Please use v2 api key.\"}\\n')\n"
     ]
    },
    {
     "name": "stdout",
     "output_type": "stream",
     "text": [
      "[17] 補完成功（model 1）：section: Models subsection: Tree Constrution from typing import Dict, List, Optional, Tuple\n"
     ]
    },
    {
     "name": "stderr",
     "output_type": "stream",
     "text": [
      "Failed to send compressed multipart ingest: langsmith.utils.LangSmithAuthError: Authentication failed for https://api.smith.langchain.com/runs/multipart. HTTPError('401 Client Error: Unauthorized for url: https://api.smith.langchain.com/runs/multipart', '{\"error\":\"Unauthorized: Using outdated v1 api key. Please use v2 api key.\"}\\n')\n"
     ]
    },
    {
     "name": "stdout",
     "output_type": "stream",
     "text": [
      "[20] 補完成功（model 1）：section: Multi-vector retriever  We create a simple summarize chain for each element.\n",
      "📝 5件を一時保存（fine_tune_data_with_output.jsonl）\n"
     ]
    },
    {
     "name": "stderr",
     "output_type": "stream",
     "text": [
      "Failed to send compressed multipart ingest: langsmith.utils.LangSmithAuthError: Authentication failed for https://api.smith.langchain.com/runs/multipart. HTTPError('401 Client Error: Unauthorized for url: https://api.smith.langchain.com/runs/multipart', '{\"error\":\"Unauthorized: Using outdated v1 api key. Please use v2 api key.\"}\\n')\n"
     ]
    },
    {
     "name": "stdout",
     "output_type": "stream",
     "text": [
      "[22] 補完成功（model 0）：section: RAG  from langchain_core.runnables import RunnablePassthrough\n"
     ]
    },
    {
     "name": "stderr",
     "output_type": "stream",
     "text": [
      "Failed to send compressed multipart ingest: langsmith.utils.LangSmithAuthError: Authentication failed for https://api.smith.langchain.com/runs/multipart. HTTPError('401 Client Error: Unauthorized for url: https://api.smith.langchain.com/runs/multipart', '{\"error\":\"Unauthorized: Using outdated v1 api key. Please use v2 api key.\"}\\n')\n"
     ]
    },
    {
     "name": "stdout",
     "output_type": "stream",
     "text": [
      "[21] 補完成功（model 2）：section: Multi-vector retriever subsection: Add to vectorstore import uuid\n"
     ]
    },
    {
     "name": "stderr",
     "output_type": "stream",
     "text": [
      "Failed to send compressed multipart ingest: langsmith.utils.LangSmithAuthError: Authentication failed for https://api.smith.langchain.com/runs/multipart. HTTPError('401 Client Error: Unauthorized for url: https://api.smith.langchain.com/runs/multipart', '{\"error\":\"Unauthorized: Using outdated v1 api key. Please use v2 api key.\"}\\n')\n"
     ]
    },
    {
     "name": "stdout",
     "output_type": "stream",
     "text": [
      "[25] 補完成功（model 0）：section: Multi-vector retriever subsection: Images Note: \n"
     ]
    },
    {
     "name": "stderr",
     "output_type": "stream",
     "text": [
      "Failed to send compressed multipart ingest: langsmith.utils.LangSmithAuthError: Authentication failed for https://api.smith.langchain.com/runs/multipart. HTTPError('401 Client Error: Unauthorized for url: https://api.smith.langchain.com/runs/multipart', '{\"error\":\"Unauthorized: Using outdated v1 api key. Please use v2 api key.\"}\\n')\n"
     ]
    },
    {
     "name": "stdout",
     "output_type": "stream",
     "text": [
      "[24] 補完成功（model 2）：section: Multi-vector retriever  # Prompt\n"
     ]
    },
    {
     "name": "stderr",
     "output_type": "stream",
     "text": [
      "Failed to send compressed multipart ingest: langsmith.utils.LangSmithAuthError: Authentication failed for https://api.smith.langchain.com/runs/multipart. HTTPError('401 Client Error: Unauthorized for url: https://api.smith.langchain.com/runs/multipart', '{\"error\":\"Unauthorized: Using outdated v1 api key. Please use v2 api key.\"}\\n')\n"
     ]
    },
    {
     "name": "stdout",
     "output_type": "stream",
     "text": [
      "[27] 補完成功（model 2）：section: Multi-vector retriever subsection: Sanity Check retrieval Here is our retrieval of that table from the natural language query:\n",
      "📝 5件を一時保存（fine_tune_data_with_output.jsonl）\n"
     ]
    },
    {
     "name": "stderr",
     "output_type": "stream",
     "text": [
      "Failed to send compressed multipart ingest: langsmith.utils.LangSmithAuthError: Authentication failed for https://api.smith.langchain.com/runs/multipart. HTTPError('401 Client Error: Unauthorized for url: https://api.smith.langchain.com/runs/multipart', '{\"error\":\"Unauthorized: Using outdated v1 api key. Please use v2 api key.\"}\\n')\n"
     ]
    },
    {
     "name": "stdout",
     "output_type": "stream",
     "text": [
      "[28] 補完成功（model 0）：section: RAG  from langchain_core.runnables import RunnablePassthrough\n"
     ]
    },
    {
     "name": "stderr",
     "output_type": "stream",
     "text": [
      "Failed to send compressed multipart ingest: langsmith.utils.LangSmithAuthError: Authentication failed for https://api.smith.langchain.com/runs/multipart. HTTPError('401 Client Error: Unauthorized for url: https://api.smith.langchain.com/runs/multipart', '{\"error\":\"Unauthorized: Using outdated v1 api key. Please use v2 api key.\"}\\n')\n"
     ]
    },
    {
     "name": "stdout",
     "output_type": "stream",
     "text": [
      "[26] 補完成功（model 1）：section: Multi-vector retriever subsection: Add to vectorstore import uuid\n"
     ]
    },
    {
     "name": "stderr",
     "output_type": "stream",
     "text": [
      "Failed to send compressed multipart ingest: langsmith.utils.LangSmithAuthError: Authentication failed for https://api.smith.langchain.com/runs/multipart. HTTPError('401 Client Error: Unauthorized for url: https://api.smith.langchain.com/runs/multipart', '{\"error\":\"Unauthorized: Using outdated v1 api key. Please use v2 api key.\"}\\n')\n"
     ]
    },
    {
     "name": "stdout",
     "output_type": "stream",
     "text": [
      "[30] 補完成功（model 2）：section: Multi-vector retriever  # Prompt\n",
      "[29] 補完成功（model 1）：section: Data Loading  from typing import Any\n"
     ]
    },
    {
     "name": "stderr",
     "output_type": "stream",
     "text": [
      "Failed to send compressed multipart ingest: langsmith.utils.LangSmithAuthError: Authentication failed for https://api.smith.langchain.com/runs/multipart. HTTPError('401 Client Error: Unauthorized for url: https://api.smith.langchain.com/runs/multipart', '{\"error\":\"Unauthorized: Using outdated v1 api key. Please use v2 api key.\"}\\n')\n"
     ]
    },
    {
     "name": "stdout",
     "output_type": "stream",
     "text": [
      "[32] 補完成功（model 1）：section: Multi-vector retriever subsection: Add to vectorstore import uuid\n",
      "📝 5件を一時保存（fine_tune_data_with_output.jsonl）\n"
     ]
    },
    {
     "name": "stderr",
     "output_type": "stream",
     "text": [
      "Failed to send compressed multipart ingest: langsmith.utils.LangSmithAuthError: Authentication failed for https://api.smith.langchain.com/runs/multipart. HTTPError('401 Client Error: Unauthorized for url: https://api.smith.langchain.com/runs/multipart', '{\"error\":\"Unauthorized: Using outdated v1 api key. Please use v2 api key.\"}\\n')\n"
     ]
    },
    {
     "name": "stdout",
     "output_type": "stream",
     "text": [
      "[31] 補完成功（model 0）：section: Multi-vector retriever subsection: Images import glob\n"
     ]
    },
    {
     "name": "stderr",
     "output_type": "stream",
     "text": [
      "Failed to send compressed multipart ingest: langsmith.utils.LangSmithAuthError: Authentication failed for https://api.smith.langchain.com/runs/multipart. HTTPError('401 Client Error: Unauthorized for url: https://api.smith.langchain.com/runs/multipart', '{\"error\":\"Unauthorized: Using outdated v1 api key. Please use v2 api key.\"}\\n')\n"
     ]
    },
    {
     "name": "stdout",
     "output_type": "stream",
     "text": [
      "[23] 補完成功（model 1）：section: Data Loading  from typing import Any\n"
     ]
    },
    {
     "name": "stderr",
     "output_type": "stream",
     "text": [
      "Failed to send compressed multipart ingest: langsmith.utils.LangSmithAuthError: Authentication failed for https://api.smith.langchain.com/runs/multipart. HTTPError('401 Client Error: Unauthorized for url: https://api.smith.langchain.com/runs/multipart', '{\"error\":\"Unauthorized: Using outdated v1 api key. Please use v2 api key.\"}\\n')\n"
     ]
    },
    {
     "name": "stdout",
     "output_type": "stream",
     "text": [
      "[34] 補完成功（model 0）：section: Data Loading  # Path\n"
     ]
    },
    {
     "name": "stderr",
     "output_type": "stream",
     "text": [
      "Failed to send compressed multipart ingest: langsmith.utils.LangSmithAuthError: Authentication failed for https://api.smith.langchain.com/runs/multipart. HTTPError('401 Client Error: Unauthorized for url: https://api.smith.langchain.com/runs/multipart', '{\"error\":\"Unauthorized: Using outdated v1 api key. Please use v2 api key.\"}\\n')\n"
     ]
    },
    {
     "name": "stdout",
     "output_type": "stream",
     "text": [
      "[35] 補完成功（model 1）：section: Data Loading subsection: Option 2: Multi-vector retriever from langchain_core.output_parsers import StrOutputParser\n"
     ]
    },
    {
     "name": "stderr",
     "output_type": "stream",
     "text": [
      "Failed to send compressed multipart ingest: langsmith.utils.LangSmithAuthError: Authentication failed for https://api.smith.langchain.com/runs/multipart. HTTPError('401 Client Error: Unauthorized for url: https://api.smith.langchain.com/runs/multipart', '{\"error\":\"Unauthorized: Using outdated v1 api key. Please use v2 api key.\"}\\n')\n"
     ]
    },
    {
     "name": "stdout",
     "output_type": "stream",
     "text": [
      "[37] 補完成功（model 0）：section: Data Loading subsection: Option 2b: Multi-vector retriever w/ image summaries # The vectorstore to use to index the summaries\n",
      "[33] 補完成功（model 2）：section: RAG  from langchain_core.runnables import RunnablePassthrough\n",
      "📝 5件を一時保存（fine_tune_data_with_output.jsonl）\n"
     ]
    },
    {
     "name": "stderr",
     "output_type": "stream",
     "text": [
      "Failed to send compressed multipart ingest: langsmith.utils.LangSmithAuthError: Authentication failed for https://api.smith.langchain.com/runs/multipart. HTTPError('401 Client Error: Unauthorized for url: https://api.smith.langchain.com/runs/multipart', '{\"error\":\"Unauthorized: Using outdated v1 api key. Please use v2 api key.\"}\\n')\n"
     ]
    }
   ],
   "source": [
    "import json\n",
    "from typing import List\n",
    "from concurrent.futures import ThreadPoolExecutor, as_completed\n",
    "from langchain_community.llms.ollama import Ollama\n",
    "\n",
    "# === 3台分のモデルを用意 ===\n",
    "ollama_models = [\n",
    "    Ollama(model=\"gemma3:4b\"),\n",
    "    Ollama(model=\"gemma3_1:4b\"),\n",
    "    Ollama(model=\"gemma3_2:4b\"),\n",
    "]\n",
    "\n",
    "# === 補完関数（モデルを指定） ===\n",
    "def generate_output_with_model(instruction: str, content: str, model_index: int) -> str:\n",
    "    llm = ollama_models[model_index]\n",
    "    system_prompt = \"あなたはLangChainやVertexAIなどに詳しいLLMです。テクニカルなドキュメントを、分かりやすく要約してください。\"\n",
    "    response = llm.invoke([\n",
    "        {\"role\": \"system\", \"content\": system_prompt},\n",
    "        {\"role\": \"user\", \"content\": f\"{instruction}\\n\\n{content}\"}\n",
    "    ])\n",
    "\n",
    "# === ファイル保存（追記モード） ===\n",
    "def append_to_jsonl(data: List[dict], path: str):\n",
    "    with open(path, \"a\", encoding=\"utf-8\") as f:\n",
    "        for entry in data:\n",
    "            f.write(json.dumps(entry, ensure_ascii=False) + \"\\n\")\n",
    "\n",
    "# === 単一チャンク処理 ===\n",
    "def process_chunk(i, item):\n",
    "    section = f\"section: {item.get('section')}\" if item.get(\"section\") else \"\"\n",
    "    subsection = f\"subsection: {item.get('subsection')}\" if item.get(\"subsection\") else \"\"\n",
    "    topic = f\"{section} {subsection} {item['content'].split('\\n')[0]}\"\n",
    "    instruction = f\"{topic}の内容をわかりやすく要約してください。\"\n",
    "    input_text = item[\"content\"]\n",
    "    model_index = i % len(ollama_models)\n",
    "    try:\n",
    "        output_text = generate_output_with_model(instruction, input_text, model_index)\n",
    "        print(f\"[{i+1}] 補完成功（model {model_index}）：{topic}\")\n",
    "    except Exception as e:\n",
    "        output_text = \"\"\n",
    "        print(f\"[{i+1}] 補完失敗（model {model_index}）：{topic} → {e}\")\n",
    "    return {\n",
    "        \"instruction\": instruction,\n",
    "        \"input\": input_text,\n",
    "        \"output\": output_text\n",
    "    }\n",
    "\n",
    "# === 並列実行（50件＋逐次セーブ）===\n",
    "def convert_and_save_ft_examples(chunks: List[dict], path: str, batch_size: int = 5):\n",
    "    examples = []\n",
    "    save_path = path\n",
    "    total = min(50, len(chunks))  # 最大50件\n",
    "\n",
    "    with ThreadPoolExecutor(max_workers=3) as executor:\n",
    "        futures = {executor.submit(process_chunk, i, item): i for i, item in enumerate(chunks[:total])}\n",
    "        for count, future in enumerate(as_completed(futures), 1):\n",
    "            example = future.result()\n",
    "            examples.append(example)\n",
    "\n",
    "            if count % batch_size == 0 or count == total:\n",
    "                append_to_jsonl(examples, save_path)\n",
    "                print(f\"📝 {len(examples)}件を一時保存（{save_path}）\")\n",
    "                examples = []\n",
    "\n",
    "# === 実行 ===\n",
    "convert_and_save_ft_examples(structured, \"fine_tune_data_with_output.jsonl\")"
   ]
  }
 ],
 "metadata": {
  "kernelspec": {
   "display_name": "embedding-env",
   "language": "python",
   "name": "python3"
  },
  "language_info": {
   "codemirror_mode": {
    "name": "ipython",
    "version": 3
   },
   "file_extension": ".py",
   "mimetype": "text/x-python",
   "name": "python",
   "nbconvert_exporter": "python",
   "pygments_lexer": "ipython3",
   "version": "3.13.2"
  }
 },
 "nbformat": 4,
 "nbformat_minor": 5
}
