{
 "cells": [
  {
   "cell_type": "code",
   "execution_count": null,
   "id": "411a7238",
   "metadata": {},
   "outputs": [],
   "source": [
    "python -m mlx_lm.lora \\\\\n",
    "  --model mistralai/Mistral-7B-Instruct-v0.2 \\\\\n",
    "  --data data \\\\\n",
    "  --train \\\\\n",
    "  --batch-size 4\\\\\n",
    "  --lora-layers 16\\\\\n",
    "  --iters 1000"
   ]
  }
 ],
 "metadata": {
  "language_info": {
   "name": "python"
  }
 },
 "nbformat": 4,
 "nbformat_minor": 5
}
